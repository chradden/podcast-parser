{
 "cells": [
  {
   "cell_type": "markdown",
   "metadata": {
    "id": "title"
   },
   "source": [
    "# 🎙️ Podcast Parser & Transkriptor\n",
    "\n",
    "Ein umfassendes Tool zum Herunterladen von Podcast-Folgen aus RSS-Feeds und deren Transkription mit OpenAI's Whisper-Modell.\n",
    "\n",
    "---\n",
    "\n",
    "## 📋 Features\n",
    "\n",
    "### 📥 Podcast Downloader\n",
    "- RSS-Feed-Parsing und Analyse\n",
    "- Selektiver Download von Folgen\n",
    "- Dateigrößen-Anzeige\n",
    "- Intelligente Dateinamen-Generierung\n",
    "\n",
    "### 📝 Audio Transkriptor\n",
    "- OpenAI Whisper Integration\n",
    "- Mehrsprachige Transkription (Deutsch, Englisch, Auto)\n",
    "- Verschiedene Modell-Größen (tiny bis large)\n",
    "- Multi-Format Support (MP3, WAV, M4A, FLAC, OGG)\n",
    "\n",
    "---"
   ]
  },
  {
   "cell_type": "markdown",
   "metadata": {
    "id": "installation"
   },
   "source": [
    "## 🚀 Installation & Setup"
   ]
  },
  {
   "cell_type": "code",
   "execution_count": null,
   "metadata": {
    "id": "install_dependencies"
   },
   "outputs": [],
   "source": [
    "# Install required packages\n",
    "!pip install feedparser requests openai-whisper\n",
    "\n",
    "# Import libraries\n",
    "import os\n",
    "import requests\n",
    "import feedparser\n",
    "import whisper\n",
    "import tempfile\n",
    "import shutil\n",
    "from urllib.parse import urlparse\n",
    "from google.colab import files\n",
    "from IPython.display import display, HTML, clear_output\n",
    "import ipywidgets as widgets\n",
    "from datetime import datetime\n",
    "\n",
    "print(\"✅ Alle Abhängigkeiten installiert und importiert!\")"
   ]
  },
  {
   "cell_type": "markdown",
   "metadata": {
    "id": "helper_functions"
   },
   "source": [
    "## 🛠️ Hilfsfunktionen"
   ]
  },
  {
   "cell_type": "code",
   "execution_count": null,
   "metadata": {
    "id": "helper_functions_code"
   },
   "outputs": [],
   "source": [
    "def title_to_filename(title, ext):\n",
    "    \"\"\"Konvertiert einen Titel in einen gültigen Dateinamen\"\"\"\n",
    "    invalid_chars = ['?', '*', ':', '<', '>', '|', '\"', '\\\\', '/', '\\n', '\\r']\n",
    "    filename = title\n",
    "    for char in invalid_chars:\n",
    "        filename = filename.replace(char, \"_\")\n",
    "    filename = filename.strip().replace(' ', '_')\n",
    "    filename = filename[:120]  # Länge beschränken\n",
    "    return f\"{filename}{ext}\"\n",
    "\n",
    "def format_file_size(size_bytes):\n",
    "    \"\"\"Formatiert Bytes in lesbare Größe\"\"\"\n",
    "    if size_bytes == 0:\n",
    "        return \"0 B\"\n",
    "    size_names = [\"B\", \"KB\", \"MB\", \"GB\"]\n",
    "    import math\n",
    "    i = int(math.floor(math.log(size_bytes, 1024)))\n",
    "    p = math.pow(1024, i)\n",
    "    s = round(size_bytes / p, 2)\n",
    "    return f\"{s} {size_names[i]}\"\n",
    "\n",
    "def create_download_link(filename, text):\n",
    "    \"\"\"Erstellt einen Download-Link für Colab\"\"\"\n",
    "    html = f'<a href=\"files/{filename}\" download=\"{filename}\">{text}</a>'\n",
    "    return HTML(html)\n",
    "\n",
    "print(\"✅ Hilfsfunktionen definiert!\")"
   ]
  },
  {
   "cell_type": "markdown",
   "metadata": {
    "id": "podcast_downloader"
   },
   "source": [
    "## 📥 Podcast Downloader"
   ]
  },
  {
   "cell_type": "code",
   "execution_count": null,
   "metadata": {
    "id": "podcast_downloader_widgets"
   },
   "outputs": [],
   "source": [
    "# Widgets für Podcast Downloader\n",
    "feed_url_widget = widgets.Text(\n",
    "    value=\"https://www.energiezone.org/feed/mp3\",\n",
    "    description=\"RSS-Feed URL:\",\n",
    "    style={'description_width': 'initial'},\n",
    "    layout=widgets.Layout(width='600px')\n",
    ")\n",
    "\n",
    "download_dir_widget = widgets.Text(\n",
    "    value=\"./podcasts\",\n",
    "    description=\"Zielordner:\",\n",
    "    style={'description_width': 'initial'},\n",
    "    layout=widgets.Layout(width='600px')\n",
    ")\n",
    "\n",
    "load_feed_button = widgets.Button(\n",
    "    description=\"📡 Feed laden & Folgen anzeigen\",\n",
    "    button_style='primary',\n",
    "    layout=widgets.Layout(width='300px')\n",
    ")\n",
    "\n",
    "download_button = widgets.Button(\n",
    "    description=\"⬇️ Ausgewählte Folgen herunterladen\",\n",
    "    button_style='success',\n",
    "    layout=widgets.Layout(width='300px')\n",
    ")\n",
    "\n",
    "# Container für Checkboxen\n",
    "episode_checkboxes = widgets.VBox([])\n",
    "episode_data = []\n",
    "\n",
    "display(HTML(\"<h3>🎙️ Podcast Downloader</h3>\"))\n",
    "display(feed_url_widget)\n",
    "display(download_dir_widget)\n",
    "display(load_feed_button)\n",
    "display(episode_checkboxes)\n",
    "display(download_button)"
   ]
  },
  {
   "cell_type": "code",
   "execution_count": null,
   "metadata": {
    "id": "button_handlers_downloader"
   },
   "outputs": [],
   "source": [
    "def load_feed(b):\n",
    "    print(\"Feed laden wurde geklickt!\")\n",
    "    # Hier kommt dein Code zum Laden des Feeds\n",
    "\n",
    "def download_episodes(b):\n",
    "    print(\"Download wurde geklickt!\")\n",
    "    # Hier kommt dein Code zum Herunterladen der Episoden\n",
    "\n",
    "# Event-Handler verbinden\n",
    "load_feed_button.on_click(load_feed)\n",
    "download_button.on_click(download_episodes)\n"
   ]
  },
  {
   "cell_type": "markdown",
   "metadata": {
    "id": "audio_transkriptor"
   },
   "source": [
    "## 📝 Audio Transkriptor"
   ]
  },
  {
   "cell_type": "code",
   "execution_count": null,
   "metadata": {
    "id": "transkriptor_widgets"
   },
   "outputs": [],
   "source": [
    "# Widgets für Audio Transkriptor\n",
    "model_size_widget = widgets.Dropdown(\n",
    "    options=[\"tiny\", \"base\", \"small\", \"medium\", \"large\"],\n",
    "    value=\"base\",\n",
    "    description=\"Whisper Modell:\",\n",
    "    style={'description_width': 'initial'}\n",
    ")\n",
    "\n",
    "load_model_button = widgets.Button(\n",
    "    description=\"🤖 Modell laden\",\n",
    "    button_style='primary'\n",
    ")\n",
    "\n",
    "language_widget = widgets.Dropdown(\n",
    "    options=[\"auto\", \"de\", \"en\"],\n",
    "    value=\"auto\",\n",
    "    description=\"Sprache:\",\n",
    "    style={'description_width': 'initial'}\n",
    ")\n",
    "\n",
    "transcribe_button = widgets.Button(\n",
    "    description=\"🎯 Transkribieren\",\n",
    "    button_style='success'\n",
    ")\n",
    "\n",
    "model_status = widgets.HTML(value=\"<span style='color: red;'>❌ Modell nicht geladen</span>\")\n",
    "\n",
    "display(HTML(\"<h3>📝 Audio Transkriptor</h3>\"))\n",
    "display(model_size_widget)\n",
    "display(load_model_button)\n",
    "display(model_status)\n",
    "display(language_widget)\n",
    "display(transcribe_button)"
   ]
  },
  {
   "cell_type": "code",
   "execution_count": null,
   "metadata": {
    "id": "button_handlers_transkriptor"
   },
   "outputs": [],
   "source": [
    "def load_whisper_model(b):\n",
    "    print(\"Modell laden wurde geklickt!\")\n",
    "    # Hier kommt dein Code zum Laden des Whisper-Modells\n",
    "\n",
    "def transcribe_audio(b):\n",
    "    print(\"Transkribieren wurde geklickt!\")\n",
    "    # Hier kommt dein Code zur Transkription\n",
    "\n",
    "# Event-Handler verbinden\n",
    "load_model_button.on_click(load_whisper_model)\n",
    "transcribe_button.on_click(transcribe_audio)\n"
   ]
  },
  {
   "cell_type": "markdown",
   "metadata": {
    "id": "batch_transcription"
   },
   "source": [
    "## 🔄 Batch-Transkription für heruntergeladene Podcasts"
   ]
  },
  {
   "cell_type": "code",
   "execution_count": null,
   "metadata": {
    "id": "batch_transcription_widgets"
   },
   "outputs": [],
   "source": [
    "# Widgets für Batch-Transkription\n",
    "batch_dir_widget = widgets.Text(\n",
    "    value=\"./podcasts\",\n",
    "    description=\"Podcast-Ordner:\",\n",
    "    style={'description_width': 'initial'},\n",
    "    layout=widgets.Layout(width='600px')\n",
    ")\n",
    "\n",
    "batch_language_widget = widgets.Dropdown(\n",
    "    options=[\"auto\", \"de\", \"en\"],\n",
    "    value=\"auto\",\n",
    "    description=\"Sprache:\",\n",
    "    style={'description_width': 'initial'}\n",
    ")\n",
    "\n",
    "batch_transcribe_button = widgets.Button(\n",
    "    description=\"🔄 Alle Podcasts transkribieren\",\n",
    "    button_style='warning'\n",
    ")\n",
    "\n",
    "display(HTML(\"<h3>🔄 Batch-Transkription</h3>\"))\n",
    "display(HTML(\"<p>Transkribiert alle Audio-Dateien in einem Ordner automatisch.</p>\"))\n",
    "display(batch_dir_widget)\n",
    "display(batch_language_widget)\n",
    "display(batch_transcribe_button)"
   ]
  },
  {
   "cell_type": "code",
   "execution_count": null,
   "metadata": {
    "id": "batch_transcription_functions"
   },
   "outputs": [],
   "source": [
    "def batch_transcribe(b):\n",
    "    \"\"\"Transkribiert alle Audio-Dateien in einem Ordner\"\"\"\n",
    "    global whisper_model\n",
    "    \n",
    "    if whisper_model is None:\n",
    "        print(\"❌ Bitte laden Sie zuerst ein Whisper-Modell!\")\n",
    "        return\n",
    "    \n",
    "    batch_dir = batch_dir_widget.value\n",
    "    language = batch_language_widget.value\n",
    "    \n",
    "    if not os.path.exists(batch_dir):\n",
    "        print(f\"❌ Ordner nicht gefunden: {batch_dir}\")\n",
    "        return\n",
    "    \n",
    "    # Finde alle Audio-Dateien\n",
    "    audio_extensions = ('.mp3', '.wav', '.m4a', '.flac', '.ogg')\n",
    "    audio_files = [f for f in os.listdir(batch_dir) \n",
    "                   if f.lower().endswith(audio_extensions)]\n",
    "    \n",
    "    if not audio_files:\n",
    "        print(f\"❌ Keine Audio-Dateien in {batch_dir} gefunden!\")\n",
    "        return\n",
    "    \n",
    "    print(f\"🔄 Starte Batch-Transkription für {len(audio_files)} Dateien...\")\n",
    "    \n",
    "    # Erstelle Ausgabe-Ordner\n",
    "    output_dir = f\"{batch_dir}_transkriptionen\"\n",
    "    os.makedirs(output_dir, exist_ok=True)\n",
    "    \n",
    "    for idx, audio_file in enumerate(audio_files):\n",
    "        audio_path = os.path.join(batch_dir, audio_file)\n",
    "        original_filename = os.path.splitext(audio_file)[0]\n",
    "        output_filename = f\"{original_filename}.txt\"\n",
    "        output_path = os.path.join(output_dir, output_filename)\n",
    "        \n",
    "        # Prüfe ob Transkription bereits existiert\n",
    "        if os.path.exists(output_path):\n",
    "            print(f\"⏭️ {audio_file} bereits transkribiert, überspringe.\")\n",
    "            continue\n",
    "        \n",
    "        print(f\"🎵 [{idx+1}/{len(audio_files)}] Transkribiere: {audio_file}\")\n",
    "        \n",
    "        try:\n",
    "            # Führe Transkription durch\n",
    "            result = whisper_model.transcribe(\n",
    "                audio_path,\n",
    "                language=language if language != \"auto\" else None,\n",
    "                task=\"transcribe\"\n",
    "            )\n",
    "            \n",
    "            # Speichere Transkription\n",
    "            with open(output_path, 'w', encoding='utf-8') as f:\n",
    "                f.write(result[\"text\"])\n",
    "            \n",
    "            print(f\"✅ Gespeichert: {output_filename}\")\n",
    "            \n",
    "        except Exception as e:\n",
    "            print(f\"❌ Fehler bei {audio_file}: {e}\")\n",
    "    \n",
    "    print(f\"\\n🎉 Batch-Transkription abgeschlossen!\")\n",
    "    print(f\"📁 Transkriptionen gespeichert in: {output_dir}\")\n",
    "    \n",
    "    # Erstelle ZIP-Archiv für einfachen Download\n",
    "    import zipfile\n",
    "    zip_filename = f\"{batch_dir}_transkriptionen.zip\"\n",
    "    \n",
    "    with zipfile.ZipFile(zip_filename, 'w') as zipf:\n",
    "        for file in os.listdir(output_dir):\n",
    "            file_path = os.path.join(output_dir, file)\n",
    "            zipf.write(file_path, file)\n",
    "    \n",
    "    print(f\"📦 ZIP-Archiv erstellt: {zip_filename}\")\n",
    "    display(create_download_link(zip_filename, \"⬇️ Alle Transkriptionen herunterladen (ZIP)\"))\n",
    "\n",
    "# Event-Handler verbinden\n",
    "batch_transcribe_button.on_click(batch_transcribe)\n",
    "\n",
    "print(\"✅ Batch-Transkription Widgets erstellt!\")"
   ]
  },
  {
   "cell_type": "markdown",
   "metadata": {
    "id": "usage_examples"
   },
   "source": [
    "## 📖 Verwendungsbeispiele"
   ]
  },
  {
   "cell_type": "code",
   "execution_count": null,
   "metadata": {
    "id": "example_usage"
   },
   "outputs": [],
   "source": [
    "# Beispiel: Automatischer Workflow\n",
    "def example_workflow():\n",
    "    \"\"\"Demonstriert einen typischen Workflow\"\"\"\n",
    "    \n",
    "    print(\"🚀 Beispiel-Workflow: Podcast herunterladen und transkribieren\")\n",
    "    print(\"=\"*60)\n",
    "    \n",
    "    # 1. Feed laden\n",
    "    print(\"1️⃣ RSS-Feed laden...\")\n",
    "    print(\"   - Geben Sie die RSS-URL ein\")\n",
    "    print(\"   - Klicken Sie auf 'Feed laden & Folgen anzeigen'\")\n",
    "    print(\"   - Wählen Sie gewünschte Folgen aus\")\n",
    "    print()\n",
    "    \n",
    "    # 2. Folgen herunterladen\n",
    "    print(\"2️⃣ Folgen herunterladen...\")\n",
    "    print(\"   - Klicken Sie auf 'Ausgewählte Folgen herunterladen'\")\n",
    "    print(\"   - Warten Sie bis alle Downloads abgeschlossen sind\")\n",
    "    print()\n",
    "    \n",
    "    # 3. Whisper-Modell laden\n",
    "    print(\"3️⃣ Whisper-Modell laden...\")\n",
    "    print(\"   - Wählen Sie Modell-Größe (tiny = schnell, large = genau)\")\n",
    "    print(\"   - Klicken Sie auf 'Modell laden'\")\n",
    "    print()\n",
    "    \n",
    "    # 4. Transkribieren\n",
    "    print(\"4️⃣ Audio transkribieren...\")\n",
    "    print(\"   - Option A: Einzelne Datei hochladen\")\n",
    "    print(\"   - Option B: Batch-Transkription für alle heruntergeladenen Folgen\")\n",
    "    print()\n",
    "    \n",
    "    # 5. Ergebnisse\n",
    "    print(\"5️⃣ Ergebnisse verwenden...\")\n",
    "    print(\"   - Transkriptionen als Text herunterladen\")\n",
    "    print(\"   - Für weitere Verarbeitung verwenden\")\n",
    "    print(\"=\"*60)\n",
    "\n",
    "# Zeige Beispiel\n",
    "example_workflow()"
   ]
  },
  {
   "cell_type": "markdown",
   "metadata": {
    "id": "tips_and_troubleshooting"
   },
   "source": [
    "## 💡 Tipps & Fehlerbehebung\n",
    "\n",
    "### 🎯 Für beste Transkriptions-Ergebnisse:\n",
    "- **Audioqualität**: Verwenden Sie hochwertige Audio-Dateien\n",
    "- **Hintergrundgeräusche**: Reduzieren Sie Störgeräusche\n",
    "- **Modellauswahl**: \n",
    "  - **Tiny/Base**: Für schnelle Transkription\n",
    "  - **Medium/Large**: Für hohe Genauigkeit\n",
    "- **Sprache**: Wählen Sie die korrekte Sprache\n",
    "- **RAM**: Stellen Sie sicher, dass genügend RAM verfügbar ist\n",
    "\n",
    "### 🔧 Häufige Probleme:\n",
    "\n",
    "**Modell kann nicht geladen werden:**\n",
    "- Überprüfen Sie Ihre Internetverbindung (erster Download)\n",
    "- Stellen Sie sicher, dass genügend RAM verfügbar ist\n",
    "- Versuchen Sie ein kleineres Modell\n",
    "\n",
    "**Audio-Datei kann nicht verarbeitet werden:**\n",
    "- Überprüfen Sie, ob die Datei beschädigt ist\n",
    "- Stellen Sie sicher, dass das Format unterstützt wird\n",
    "- Versuchen Sie eine andere Audio-Datei\n",
    "\n",
    "**Langsame Performance:**\n",
    "- Verwenden Sie ein kleineres Whisper-Modell\n",
    "- Schließen Sie andere Programme\n",
    "- Stellen Sie sicher, dass genügend RAM verfügbar ist\n",
    "\n",
    "### 📊 Whisper-Modell Vergleich:\n",
    "\n",
    "| Modell | Größe   | RAM  | Geschwindigkeit | Genauigkeit | Empfehlung |\n",
    "| ------ | ------- | ---- | --------------- | ----------- | ---------- |\n",
    "| tiny   | 39 MB   | 1GB  | Sehr schnell    | Gut         | Schnelle Tests |\n",
    "| base   | 74 MB   | 1GB  | Schnell         | Besser      | Standard |\n",
    "| small  | 244 MB  | 2GB  | Mittel          | Noch besser | Gute Balance |\n",
    "| medium | 769 MB  | 5GB  | Langsam         | Sehr gut    | Hohe Qualität |\n",
    "| large  | 1550 MB | 10GB | Sehr langsam    | Beste       | Beste Qualität |"
   ]
  },
  {
   "cell_type": "markdown",
   "metadata": {
    "id": "conclusion"
   },
   "source": [
    "## 🎉 Fazit\n",
    "\n",
    "Dieses Notebook bietet eine vollständige Lösung für:\n",
    "\n",
    "✅ **Podcast-Download** aus RSS-Feeds  \n",
    "✅ **Audio-Transkription** mit OpenAI Whisper  \n",
    "✅ **Batch-Verarbeitung** für mehrere Dateien  \n",
    "✅ **Benutzerfreundliche Oberfläche** mit Widgets  \n",
    "✅ **Export-Funktionen** für Transkriptionen  \n",
    "\n",
    "---\n",
    "\n",
    "**Hinweis**: Stellen Sie sicher, dass Sie die Rechte haben, Podcast-Inhalte herunterzuladen und zu transkribieren. Respektieren Sie die Urheberrechte der Podcast-Ersteller.\n",
    "\n",
    "**Inspiriert von**: [LocalTranscript](https://github.com/chradden/LocalTranscript)"
   ]
  }
 ],
 "metadata": {
  "accelerator": "GPU",
  "colab": {
   "gpuType": "T4",
   "provenance": []
  },
  "kernelspec": {
   "display_name": "Python 3",
   "language": "python",
   "name": "python3"
  },
  "language_info": {
   "codemirror_mode": {
    "name": "ipython",
    "version": 3
   },
   "file_extension": ".py",
   "mimetype": "text/x-python",
   "name": "python",
   "nbconvert_exporter": "python",
   "pygments_lexer": "ipython3",
   "version": "3.8.5"
  }
 },
 "nbformat": 4,
 "nbformat_minor": 4
}