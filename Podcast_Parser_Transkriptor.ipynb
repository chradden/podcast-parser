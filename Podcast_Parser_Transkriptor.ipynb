{
 "cells": [
  {
   "cell_type": "markdown",
   "metadata": {
    "id": "title"
   },
   "source": [
    "# 🎙️ Podcast Parser & Transkriptor
",
    "
",
    "Ein umfassendes Tool zum Herunterladen von Podcast-Folgen aus RSS-Feeds und deren Transkription mit OpenAI's Whisper-Modell.
",
    "
",
    "---
",
    "
",
    "## 📋 Features
",
    "
",
    "### 📥 Podcast Downloader
",
    "- RSS-Feed-Parsing und Analyse
",
    "- Selektiver Download von Folgen
",
    "- Dateigrößen-Anzeige
",
    "- Intelligente Dateinamen-Generierung
",
    "
",
    "### 📝 Audio Transkriptor
",
    "- OpenAI Whisper Integration
",
    "- Mehrsprachige Transkription (Deutsch, Englisch, Auto)
",
    "- Verschiedene Modell-Größen (tiny bis large)
",
    "- Multi-Format Support (MP3, WAV, M4A, FLAC, OGG)
",
    "
",
    "---"
   ]
  },
  {
   "cell_type": "markdown",
   "metadata": {
    "id": "installation"
   },
   "source": [
    "## 🚀 Installation & Setup"
   ]
  },
  {
   "cell_type": "code",
   "execution_count": null,
   "metadata": {
    "id": "install_dependencies"
   },
   "outputs": [],
   "source": [
    "# Install required packages
",
    "!pip install feedparser requests openai-whisper
",
    "
",
    "# Import libraries
",
    "import os
",
    "import requests
",
    "import feedparser
",
    "import whisper
",
    "import tempfile
",
    "import shutil
",
    "from urllib.parse import urlparse
",
    "from google.colab import files
",
    "from IPython.display import display, HTML, clear_output
",
    "import ipywidgets as widgets
",
    "from datetime import datetime
",
    "
",
    "print("✅ Alle Abhängigkeiten installiert und importiert!")"
   ]
  },
  {
   "cell_type": "markdown",
   "metadata": {
    "id": "helper_functions"
   },
   "source": [
    "## 🛠️ Hilfsfunktionen"
   ]
  },
  {
   "cell_type": "code",
   "execution_count": null,
   "metadata": {
    "id": "helper_functions_code"
   },
   "outputs": [],
   "source": [
    "def title_to_filename(title, ext):
",
    "    """Konvertiert einen Titel in einen gültigen Dateinamen"""
",
    "    invalid_chars = ['?', '*', ':', '<', '>', '|', '"', '\\', '/', '\n', '\r']
",
    "    filename = title
",
    "    for char in invalid_chars:
",
    "        filename = filename.replace(char, "_")
",
    "    filename = filename.strip().replace(' ', '_')
",
    "    filename = filename[:120]  # Länge beschränken
",
    "    return f"{filename}{ext}"
",
    "
",
    "def format_file_size(size_bytes):
",
    "    """Formatiert Bytes in lesbare Größe"""
",
    "    if size_bytes == 0:
",
    "        return "0 B"
",
    "    size_names = ["B", "KB", "MB", "GB"]
",
    "    import math
",
    "    i = int(math.floor(math.log(size_bytes, 1024)))
",
    "    p = math.pow(1024, i)
",
    "    s = round(size_bytes / p, 2)
",
    "    return f"{s} {size_names[i]}"
",
    "
",
    "def create_download_link(filename, text):
",
    "    """Erstellt einen Download-Link für Colab"""
",
    "    html = f'<a href="files/{filename}" download="{filename}">{text}</a>'
",
    "    return HTML(html)
",
    "
",
    "print("✅ Hilfsfunktionen definiert!")"
   ]
  },
  {
   "cell_type": "markdown",
   "metadata": {
    "id": "podcast_downloader"
   },
   "source": [
    "## 📥 Podcast Downloader"
   ]
  },
  {
   "cell_type": "code",
   "execution_count": null,
   "metadata": {
    "id": "podcast_downloader_widgets"
   },
   "outputs": [],
   "source": [
    "# Widgets für Podcast Downloader
",
    "feed_url_widget = widgets.Text(
",
    "    value="https://www.energiezone.org/feed/mp3",
",
    "    description="RSS-Feed URL:",
",
    "    style={'description_width': 'initial'},
",
    "    layout=widgets.Layout(width='600px')
",
    ")
",
    "
",
    "download_dir_widget = widgets.Text(
",
    "    value="./podcasts",
",
    "    description="Zielordner:",
",
    "    style={'description_width': 'initial'},
",
    "    layout=widgets.Layout(width='600px')
",
    ")
",
    "
",
    "load_feed_button = widgets.Button(
",
    "    description="📡 Feed laden & Folgen anzeigen",
",
    "    button_style='primary',
",
    "    layout=widgets.Layout(width='300px')
",
    ")
",
    "
",
    "download_button = widgets.Button(
",
    "    description="⬇️ Ausgewählte Folgen herunterladen",
",
    "    button_style='success',
",
    "    layout=widgets.Layout(width='300px')
",
    ")
",
    "
",
    "# Container für Checkboxen
",
    "episode_checkboxes = widgets.VBox([])
",
    "episode_data = []
",
    "
",
    "display(HTML("<h3>🎙️ Podcast Downloader</h3>"))
",
    "display(feed_url_widget)
",
    "display(download_dir_widget)
",
    "display(load_feed_button)
",
    "display(episode_checkboxes)
",
    "display(download_button)"
   ]
  }
 ],
 "metadata": {
  "accelerator": "GPU",
  "colab": {
   "gpuType": "T4",
   "provenance": []
  },
  "kernelspec": {
   "display_name": "Python 3",
   "language": "python",
   "name": "python3"
  },
  "language_info": {
   "codemirror_mode": {
    "name": "ipython",
    "version": 3
   },
   "file_extension": ".py",
   "mimetype": "text/x-python",
   "name": "python",
   "nbconvert_exporter": "python",
   "pygments_lexer": "ipython3",
   "version": "3.8.5"
  }
 },
 "nbformat": 4,
 "nbformat_minor": 4
}